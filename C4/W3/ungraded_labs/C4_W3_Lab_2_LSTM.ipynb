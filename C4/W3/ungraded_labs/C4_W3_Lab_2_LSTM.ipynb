{
  "cells": [
    {
      "cell_type": "markdown",
      "metadata": {
        "id": "24XV20iBDb0X"
      },
      "source": [
        "<a href=\"https://colab.research.google.com/github/https-deeplearning-ai/tensorflow-1-public/blob/main/C4/W3/ungraded_labs/C4_W3_Lab_2_LSTM.ipynb\" target=\"_parent\"><img src=\"https://colab.research.google.com/assets/colab-badge.svg\" alt=\"Open In Colab\"/></a>"
      ]
    },
    {
      "cell_type": "markdown",
      "metadata": {
        "id": "sV_nvXSQGJPK"
      },
      "source": [
        "# Ungraded Lab: Using a multi-layer LSTM for forecasting\n",
        "\n",
        "In this lab, you will use the same RNN architecure in the first lab but will instead stack [LSTM](https://www.tensorflow.org/api_docs/python/tf/keras/layers/LSTM) layers instead of `SimpleRNN`."
      ]
    },
    {
      "cell_type": "markdown",
      "metadata": {
        "id": "3IMbAWETGOWD"
      },
      "source": [
        "## Imports"
      ]
    },
    {
      "cell_type": "code",
      "execution_count": 1,
      "metadata": {
        "id": "BOjujz601HcS"
      },
      "outputs": [],
      "source": [
        "import tensorflow as tf\n",
        "import numpy as np\n",
        "import matplotlib.pyplot as plt"
      ]
    },
    {
      "cell_type": "markdown",
      "metadata": {
        "id": "kD7RQQ0xGQVH"
      },
      "source": [
        "## Utilities"
      ]
    },
    {
      "cell_type": "code",
      "execution_count": 2,
      "metadata": {
        "id": "Zswl7jRtGzkk"
      },
      "outputs": [],
      "source": [
        "def plot_series(time, series, format=\"-\", start=0, end=None):\n",
        "    \"\"\"\n",
        "    Visualizes time series data\n",
        "\n",
        "    Args:\n",
        "      time (array of int) - contains the time steps\n",
        "      series (array of int) - contains the measurements for each time step\n",
        "      format - line style when plotting the graph\n",
        "      start - first time step to plot\n",
        "      end - last time step to plot\n",
        "    \"\"\"\n",
        "\n",
        "    # Setup dimensions of the graph figure\n",
        "    plt.figure(figsize=(10, 6))\n",
        "\n",
        "    if type(series) is tuple:\n",
        "\n",
        "      for series_num in series:\n",
        "        # Plot the time series data\n",
        "        plt.plot(time[start:end], series_num[start:end], format)\n",
        "\n",
        "    else:\n",
        "      # Plot the time series data\n",
        "      plt.plot(time[start:end], series[start:end], format)\n",
        "\n",
        "    # Label the x-axis\n",
        "    plt.xlabel(\"Time\")\n",
        "\n",
        "    # Label the y-axis\n",
        "    plt.ylabel(\"Value\")\n",
        "\n",
        "    # Overlay a grid on the graph\n",
        "    plt.grid(True)\n",
        "\n",
        "    # Draw the graph on screen\n",
        "    plt.show()\n",
        "\n",
        "def trend(time, slope=0):\n",
        "    \"\"\"\n",
        "    Generates synthetic data that follows a straight line given a slope value.\n",
        "\n",
        "    Args:\n",
        "      time (array of int) - contains the time steps\n",
        "      slope (float) - determines the direction and steepness of the line\n",
        "\n",
        "    Returns:\n",
        "      series (array of float) - measurements that follow a straight line\n",
        "    \"\"\"\n",
        "\n",
        "    # Compute the linear series given the slope\n",
        "    series = slope * time\n",
        "\n",
        "    return series\n",
        "\n",
        "def seasonal_pattern(season_time):\n",
        "    \"\"\"\n",
        "    Just an arbitrary pattern, you can change it if you wish\n",
        "\n",
        "    Args:\n",
        "      season_time (array of float) - contains the measurements per time step\n",
        "\n",
        "    Returns:\n",
        "      data_pattern (array of float) -  contains revised measurement values according\n",
        "                                  to the defined pattern\n",
        "    \"\"\"\n",
        "\n",
        "    # Generate the values using an arbitrary pattern\n",
        "    data_pattern = np.where(season_time < 0.4,\n",
        "                    np.cos(season_time * 2 * np.pi),\n",
        "                    1 / np.exp(3 * season_time))\n",
        "\n",
        "    return data_pattern\n",
        "\n",
        "def seasonality(time, period, amplitude=1, phase=0):\n",
        "    \"\"\"\n",
        "    Repeats the same pattern at each period\n",
        "\n",
        "    Args:\n",
        "      time (array of int) - contains the time steps\n",
        "      period (int) - number of time steps before the pattern repeats\n",
        "      amplitude (int) - peak measured value in a period\n",
        "      phase (int) - number of time steps to shift the measured values\n",
        "\n",
        "    Returns:\n",
        "      data_pattern (array of float) - seasonal data scaled by the defined amplitude\n",
        "    \"\"\"\n",
        "\n",
        "    # Define the measured values per period\n",
        "    season_time = ((time + phase) % period) / period\n",
        "\n",
        "    # Generates the seasonal data scaled by the defined amplitude\n",
        "    data_pattern = amplitude * seasonal_pattern(season_time)\n",
        "\n",
        "    return data_pattern\n",
        "\n",
        "def noise(time, noise_level=1, seed=None):\n",
        "    \"\"\"Generates a normally distributed noisy signal\n",
        "\n",
        "    Args:\n",
        "      time (array of int) - contains the time steps\n",
        "      noise_level (float) - scaling factor for the generated signal\n",
        "      seed (int) - number generator seed for repeatability\n",
        "\n",
        "    Returns:\n",
        "      noise (array of float) - the noisy signal\n",
        "    \"\"\"\n",
        "\n",
        "    # Initialize the random number generator\n",
        "    rnd = np.random.RandomState(seed)\n",
        "\n",
        "    # Generate a random number for each time step and scale by the noise level\n",
        "    noise = rnd.randn(len(time)) * noise_level\n",
        "\n",
        "    return noise"
      ]
    },
    {
      "cell_type": "markdown",
      "metadata": {
        "id": "yxNyeFWjGSdj"
      },
      "source": [
        "## Generate the Synthetic Data"
      ]
    },
    {
      "cell_type": "code",
      "execution_count": 3,
      "metadata": {
        "id": "KYEUfDbdpHPm",
        "colab": {
          "base_uri": "https://localhost:8080/",
          "height": 542
        },
        "outputId": "992bfc54-5747-44bd-967a-175ecec8ef8a"
      },
      "outputs": [
        {
          "output_type": "display_data",
          "data": {
            "text/plain": [
              "<Figure size 1000x600 with 1 Axes>"
            ],
            "image/png": "[encoded data removed]"
          },
          "metadata": {}
        }
      ],
      "source": [
        "# Parameters\n",
        "time = np.arange(4 * 365 + 1, dtype=\"float32\")\n",
        "baseline = 10\n",
        "amplitude = 40\n",
        "slope = 0.05\n",
        "noise_level = 5\n",
        "\n",
        "# Create the series\n",
        "series = baseline + trend(time, slope) + seasonality(time, period=365, amplitude=amplitude)\n",
        "\n",
        "# Update with noise\n",
        "series += noise(time, noise_level, seed=42)\n",
        "\n",
        "# Plot the results\n",
        "plot_series(time, series)"
      ]
    },
    {
      "cell_type": "markdown",
      "metadata": {
        "id": "MYKCvv-eGWRc"
      },
      "source": [
        "## Split the Dataset"
      ]
    },
    {
      "cell_type": "code",
      "execution_count": 4,
      "metadata": {
        "id": "hpp0slenpKVD"
      },
      "outputs": [],
      "source": [
        "# Define the split time\n",
        "split_time = 1000\n",
        "\n",
        "# Get the train set\n",
        "time_train = time[:split_time]\n",
        "x_train = series[:split_time]\n",
        "\n",
        "# Get the validation set\n",
        "time_valid = time[split_time:]\n",
        "x_valid = series[split_time:]"
      ]
    },
    {
      "cell_type": "markdown",
      "metadata": {
        "id": "cktHz9aOGYtV"
      },
      "source": [
        "## Prepare Features and Labels"
      ]
    },
    {
      "cell_type": "code",
      "execution_count": 5,
      "metadata": {
        "id": "G_j_2_Mqwn7-"
      },
      "outputs": [],
      "source": [
        "# Parameters\n",
        "window_size = 20\n",
        "batch_size = 32\n",
        "shuffle_buffer_size = 1000"
      ]
    },
    {
      "cell_type": "code",
      "execution_count": 6,
      "metadata": {
        "id": "4sTTIOCbyShY"
      },
      "outputs": [],
      "source": [
        "def windowed_dataset(series, window_size, batch_size, shuffle_buffer):\n",
        "    \"\"\"Generates dataset windows\n",
        "\n",
        "    Args:\n",
        "      series (array of float) - contains the values of the time series\n",
        "      window_size (int) - the number of time steps to include in the feature\n",
        "      batch_size (int) - the batch size\n",
        "      shuffle_buffer(int) - buffer size to use for the shuffle method\n",
        "\n",
        "    Returns:\n",
        "      dataset (TF Dataset) - TF Dataset containing time windows\n",
        "    \"\"\"\n",
        "\n",
        "    # Generate a TF Dataset from the series values\n",
        "    dataset = tf.data.Dataset.from_tensor_slices(series)\n",
        "\n",
        "    # Window the data but only take those with the specified size\n",
        "    dataset = dataset.window(window_size + 1, shift=1, drop_remainder=True)\n",
        "\n",
        "    # Flatten the windows by putting its elements in a single batch\n",
        "    dataset = dataset.flat_map(lambda window: window.batch(window_size + 1))\n",
        "\n",
        "    # Create tuples with features and labels\n",
        "    dataset = dataset.map(lambda window: (window[:-1], window[-1]))\n",
        "\n",
        "    # Shuffle the windows\n",
        "    dataset = dataset.shuffle(shuffle_buffer)\n",
        "\n",
        "    # Create batches of windows\n",
        "    dataset = dataset.batch(batch_size).prefetch(1)\n",
        "\n",
        "    return dataset"
      ]
    },
    {
      "cell_type": "code",
      "execution_count": 7,
      "metadata": {
        "id": "vGj5-InSwtQQ"
      },
      "outputs": [],
      "source": [
        "# Generate the dataset windows\n",
        "dataset = windowed_dataset(x_train, window_size, batch_size, shuffle_buffer_size)"
      ]
    },
    {
      "cell_type": "markdown",
      "metadata": {
        "id": "p9-Ke8ZaGcjd"
      },
      "source": [
        "## Build the Model\n",
        "\n",
        "As mentioned, you will swap `SimpleRNN` for `LSTM` in this lab. It is also set as bidirectional below but feel free to revise later and see what results you get. LSTMs are much more complex in their internal architecture than simpleRNNs. It implements a cell state that allows it to remember sequences better than simple implementations. This added complexity results in a bigger set of parameters to train and you'll see that when you print the model summary below."
      ]
    },
    {
      "cell_type": "code",
      "execution_count": 8,
      "metadata": {
        "id": "A1Hl39rklkLm",
        "colab": {
          "base_uri": "https://localhost:8080/"
        },
        "outputId": "8f487b24-947c-4217-b584-5768901579cd"
      },
      "outputs": [
        {
          "output_type": "stream",
          "name": "stdout",
          "text": [
            "Model: \"sequential\"\n",
            "_________________________________________________________________\n",
            " Layer (type)                Output Shape              Param #   \n",
            "=================================================================\n",
            " lambda (Lambda)             (None, 20, 1)             0         \n",
            "                                                                 \n",
            " bidirectional (Bidirection  (None, 20, 64)            8704      \n",
            " al)                                                             \n",
            "                                                                 \n",
            " bidirectional_1 (Bidirecti  (None, 64)                24832     \n",
            " onal)                                                           \n",
            "                                                                 \n",
            " dense (Dense)               (None, 1)                 65        \n",
            "                                                                 \n",
            " lambda_1 (Lambda)           (None, 1)                 0         \n",
            "                                                                 \n",
            "=================================================================\n",
            "Total params: 33601 (131.25 KB)\n",
            "Trainable params: 33601 (131.25 KB)\n",
            "Non-trainable params: 0 (0.00 Byte)\n",
            "_________________________________________________________________\n"
          ]
        }
      ],
      "source": [
        "# Build the Model\n",
        "model_tune = tf.keras.models.Sequential([\n",
        "  tf.keras.layers.Lambda(lambda x: tf.expand_dims(x, axis=-1),\n",
        "                      input_shape=[window_size]),\n",
        "    tf.keras.layers.Bidirectional(tf.keras.layers.LSTM(32, return_sequences=True)),\n",
        "  tf.keras.layers.Bidirectional(tf.keras.layers.LSTM(32)),  # 32 units/cells\n",
        "  tf.keras.layers.Dense(1),\n",
        "  tf.keras.layers.Lambda(lambda x: x * 100.0)\n",
        "])\n",
        "\n",
        "# Print the model summary\n",
        "model_tune.summary()"
      ]
    },
    {
      "cell_type": "markdown",
      "metadata": {
        "id": "FHaFblbwq0GV"
      },
      "source": [
        "## Tune the Learning Rate\n",
        "\n",
        "As usual, you will pick a learning rate by running the tuning code below."
      ]
    },
    {
      "cell_type": "code",
      "execution_count": 9,
      "metadata": {
        "id": "qE7al18qw48G",
        "colab": {
          "base_uri": "https://localhost:8080/"
        },
        "outputId": "cf4c331b-b692-408a-c2af-bf2b696c2976"
      },
      "outputs": [
        {
          "output_type": "stream",
          "name": "stdout",
          "text": [
            "Epoch 1/100\n",
            "31/31 [==============================] - 8s 10ms/step - loss: 92.1765 - lr: 1.0000e-08\n",
            "Epoch 2/100\n",
            "31/31 [==============================] - 0s 9ms/step - loss: 91.5391 - lr: 1.1220e-08\n",
            "Epoch 3/100\n",
            "31/31 [==============================] - 0s 9ms/step - loss: 90.7671 - lr: 1.2589e-08\n",
            "Epoch 4/100\n",
            "31/31 [==============================] - 0s 8ms/step - loss: 89.9014 - lr: 1.4125e-08\n",
            "Epoch 5/100\n",
            "31/31 [==============================] - 0s 9ms/step - loss: 88.9285 - lr: 1.5849e-08\n",
            "Epoch 6/100\n",
            "31/31 [==============================] - 0s 9ms/step - loss: 87.8399 - lr: 1.7783e-08\n",
            "Epoch 7/100\n",
            "31/31 [==============================] - 0s 8ms/step - loss: 86.6173 - lr: 1.9953e-08\n",
            "Epoch 8/100\n",
            "31/31 [==============================] - 0s 9ms/step - loss: 85.2483 - lr: 2.2387e-08\n",
            "Epoch 9/100\n",
            "31/31 [==============================] - 0s 9ms/step - loss: 83.7141 - lr: 2.5119e-08\n",
            "Epoch 10/100\n",
            "31/31 [==============================] - 0s 8ms/step - loss: 81.9902 - lr: 2.8184e-08\n",
            "Epoch 11/100\n",
            "31/31 [==============================] - 0s 9ms/step - loss: 80.0518 - lr: 3.1623e-08\n",
            "Epoch 12/100\n",
            "31/31 [==============================] - 1s 12ms/step - loss: 77.8694 - lr: 3.5481e-08\n",
            "Epoch 13/100\n",
            "31/31 [==============================] - 1s 13ms/step - loss: 75.3879 - lr: 3.9811e-08\n",
            "Epoch 14/100\n",
            "31/31 [==============================] - 1s 12ms/step - loss: 72.4726 - lr: 4.4668e-08\n",
            "Epoch 15/100\n",
            "31/31 [==============================] - 1s 13ms/step - loss: 67.2305 - lr: 5.0119e-08\n",
            "Epoch 16/100\n",
            "31/31 [==============================] - 0s 9ms/step - loss: 61.6994 - lr: 5.6234e-08\n",
            "Epoch 17/100\n",
            "31/31 [==============================] - 0s 9ms/step - loss: 57.7961 - lr: 6.3096e-08\n",
            "Epoch 18/100\n",
            "31/31 [==============================] - 0s 9ms/step - loss: 53.6095 - lr: 7.0795e-08\n",
            "Epoch 19/100\n",
            "31/31 [==============================] - 0s 10ms/step - loss: 48.9683 - lr: 7.9433e-08\n",
            "Epoch 20/100\n",
            "31/31 [==============================] - 0s 9ms/step - loss: 43.7845 - lr: 8.9125e-08\n",
            "Epoch 21/100\n",
            "31/31 [==============================] - 0s 9ms/step - loss: 37.9843 - lr: 1.0000e-07\n",
            "Epoch 22/100\n",
            "31/31 [==============================] - 0s 10ms/step - loss: 31.4500 - lr: 1.1220e-07\n",
            "Epoch 23/100\n",
            "31/31 [==============================] - 0s 9ms/step - loss: 24.3711 - lr: 1.2589e-07\n",
            "Epoch 24/100\n",
            "31/31 [==============================] - 0s 10ms/step - loss: 17.7518 - lr: 1.4125e-07\n",
            "Epoch 25/100\n",
            "31/31 [==============================] - 0s 9ms/step - loss: 13.3930 - lr: 1.5849e-07\n",
            "Epoch 26/100\n",
            "31/31 [==============================] - 0s 9ms/step - loss: 11.6442 - lr: 1.7783e-07\n",
            "Epoch 27/100\n",
            "31/31 [==============================] - 0s 9ms/step - loss: 11.0177 - lr: 1.9953e-07\n",
            "Epoch 28/100\n",
            "31/31 [==============================] - 0s 9ms/step - loss: 10.6705 - lr: 2.2387e-07\n",
            "Epoch 29/100\n",
            "31/31 [==============================] - 0s 9ms/step - loss: 10.3520 - lr: 2.5119e-07\n",
            "Epoch 30/100\n",
            "31/31 [==============================] - 0s 9ms/step - loss: 10.0300 - lr: 2.8184e-07\n",
            "Epoch 31/100\n",
            "31/31 [==============================] - 0s 9ms/step - loss: 9.6630 - lr: 3.1623e-07\n",
            "Epoch 32/100\n",
            "31/31 [==============================] - 0s 9ms/step - loss: 9.3201 - lr: 3.5481e-07\n",
            "Epoch 33/100\n",
            "31/31 [==============================] - 0s 9ms/step - loss: 8.9517 - lr: 3.9811e-07\n",
            "Epoch 34/100\n",
            "31/31 [==============================] - 0s 9ms/step - loss: 8.6172 - lr: 4.4668e-07\n",
            "Epoch 35/100\n",
            "31/31 [==============================] - 0s 9ms/step - loss: 8.3409 - lr: 5.0119e-07\n",
            "Epoch 36/100\n",
            "31/31 [==============================] - 0s 9ms/step - loss: 8.0137 - lr: 5.6234e-07\n",
            "Epoch 37/100\n",
            "31/31 [==============================] - 0s 10ms/step - loss: 7.7935 - lr: 6.3096e-07\n",
            "Epoch 38/100\n",
            "31/31 [==============================] - 0s 13ms/step - loss: 7.5729 - lr: 7.0795e-07\n",
            "Epoch 39/100\n",
            "31/31 [==============================] - 1s 12ms/step - loss: 7.4119 - lr: 7.9433e-07\n",
            "Epoch 40/100\n",
            "31/31 [==============================] - 1s 14ms/step - loss: 7.3603 - lr: 8.9125e-07\n",
            "Epoch 41/100\n",
            "31/31 [==============================] - 1s 14ms/step - loss: 7.2184 - lr: 1.0000e-06\n",
            "Epoch 42/100\n",
            "31/31 [==============================] - 1s 14ms/step - loss: 7.0684 - lr: 1.1220e-06\n",
            "Epoch 43/100\n",
            "31/31 [==============================] - 0s 9ms/step - loss: 7.0210 - lr: 1.2589e-06\n",
            "Epoch 44/100\n",
            "31/31 [==============================] - 0s 10ms/step - loss: 6.9370 - lr: 1.4125e-06\n",
            "Epoch 45/100\n",
            "31/31 [==============================] - 0s 9ms/step - loss: 6.7787 - lr: 1.5849e-06\n",
            "Epoch 46/100\n",
            "31/31 [==============================] - 0s 10ms/step - loss: 6.7403 - lr: 1.7783e-06\n",
            "Epoch 47/100\n",
            "31/31 [==============================] - 0s 8ms/step - loss: 6.6688 - lr: 1.9953e-06\n",
            "Epoch 48/100\n",
            "31/31 [==============================] - 0s 9ms/step - loss: 6.6270 - lr: 2.2387e-06\n",
            "Epoch 49/100\n",
            "31/31 [==============================] - 0s 8ms/step - loss: 6.5641 - lr: 2.5119e-06\n",
            "Epoch 50/100\n",
            "31/31 [==============================] - 0s 9ms/step - loss: 6.4603 - lr: 2.8184e-06\n",
            "Epoch 51/100\n",
            "31/31 [==============================] - 0s 9ms/step - loss: 6.7187 - lr: 3.1623e-06\n",
            "Epoch 52/100\n",
            "31/31 [==============================] - 0s 8ms/step - loss: 6.4291 - lr: 3.5481e-06\n",
            "Epoch 53/100\n",
            "31/31 [==============================] - 0s 10ms/step - loss: 6.3748 - lr: 3.9811e-06\n",
            "Epoch 54/100\n",
            "31/31 [==============================] - 0s 9ms/step - loss: 6.1592 - lr: 4.4668e-06\n",
            "Epoch 55/100\n",
            "31/31 [==============================] - 0s 9ms/step - loss: 6.2431 - lr: 5.0119e-06\n",
            "Epoch 56/100\n",
            "31/31 [==============================] - 0s 8ms/step - loss: 6.1663 - lr: 5.6234e-06\n",
            "Epoch 57/100\n",
            "31/31 [==============================] - 0s 9ms/step - loss: 6.4029 - lr: 6.3096e-06\n",
            "Epoch 58/100\n",
            "31/31 [==============================] - 0s 9ms/step - loss: 5.8912 - lr: 7.0795e-06\n",
            "Epoch 59/100\n",
            "31/31 [==============================] - 0s 9ms/step - loss: 5.8333 - lr: 7.9433e-06\n",
            "Epoch 60/100\n",
            "31/31 [==============================] - 0s 9ms/step - loss: 5.8707 - lr: 8.9125e-06\n",
            "Epoch 61/100\n",
            "31/31 [==============================] - 0s 9ms/step - loss: 5.8376 - lr: 1.0000e-05\n",
            "Epoch 62/100\n",
            "31/31 [==============================] - 0s 9ms/step - loss: 5.8177 - lr: 1.1220e-05\n",
            "Epoch 63/100\n",
            "31/31 [==============================] - 0s 9ms/step - loss: 5.7893 - lr: 1.2589e-05\n",
            "Epoch 64/100\n",
            "31/31 [==============================] - 0s 9ms/step - loss: 5.6074 - lr: 1.4125e-05\n",
            "Epoch 65/100\n",
            "31/31 [==============================] - 1s 13ms/step - loss: 5.4017 - lr: 1.5849e-05\n",
            "Epoch 66/100\n",
            "31/31 [==============================] - 1s 13ms/step - loss: 6.3384 - lr: 1.7783e-05\n",
            "Epoch 67/100\n",
            "31/31 [==============================] - 1s 15ms/step - loss: 5.4107 - lr: 1.9953e-05\n",
            "Epoch 68/100\n",
            "31/31 [==============================] - 1s 13ms/step - loss: 5.2674 - lr: 2.2387e-05\n",
            "Epoch 69/100\n",
            "31/31 [==============================] - 1s 10ms/step - loss: 5.5097 - lr: 2.5119e-05\n",
            "Epoch 70/100\n",
            "31/31 [==============================] - 0s 9ms/step - loss: 5.0662 - lr: 2.8184e-05\n",
            "Epoch 71/100\n",
            "31/31 [==============================] - 0s 9ms/step - loss: 5.5316 - lr: 3.1623e-05\n",
            "Epoch 72/100\n",
            "31/31 [==============================] - 0s 9ms/step - loss: 5.0258 - lr: 3.5481e-05\n",
            "Epoch 73/100\n",
            "31/31 [==============================] - 0s 9ms/step - loss: 7.0994 - lr: 3.9811e-05\n",
            "Epoch 74/100\n",
            "31/31 [==============================] - 0s 9ms/step - loss: 5.8253 - lr: 4.4668e-05\n",
            "Epoch 75/100\n",
            "31/31 [==============================] - 0s 9ms/step - loss: 5.9054 - lr: 5.0119e-05\n",
            "Epoch 76/100\n",
            "31/31 [==============================] - 0s 10ms/step - loss: 5.7483 - lr: 5.6234e-05\n",
            "Epoch 77/100\n",
            "31/31 [==============================] - 0s 9ms/step - loss: 5.7248 - lr: 6.3096e-05\n",
            "Epoch 78/100\n",
            "31/31 [==============================] - 0s 9ms/step - loss: 6.7534 - lr: 7.0795e-05\n",
            "Epoch 79/100\n",
            "31/31 [==============================] - 0s 9ms/step - loss: 7.3676 - lr: 7.9433e-05\n",
            "Epoch 80/100\n",
            "31/31 [==============================] - 0s 9ms/step - loss: 6.5312 - lr: 8.9125e-05\n",
            "Epoch 81/100\n",
            "31/31 [==============================] - 0s 9ms/step - loss: 6.0083 - lr: 1.0000e-04\n",
            "Epoch 82/100\n",
            "31/31 [==============================] - 0s 9ms/step - loss: 8.6825 - lr: 1.1220e-04\n",
            "Epoch 83/100\n",
            "31/31 [==============================] - 0s 9ms/step - loss: 7.0511 - lr: 1.2589e-04\n",
            "Epoch 84/100\n",
            "31/31 [==============================] - 0s 9ms/step - loss: 6.9376 - lr: 1.4125e-04\n",
            "Epoch 85/100\n",
            "31/31 [==============================] - 0s 9ms/step - loss: 8.1688 - lr: 1.5849e-04\n",
            "Epoch 86/100\n",
            "31/31 [==============================] - 0s 9ms/step - loss: 7.5547 - lr: 1.7783e-04\n",
            "Epoch 87/100\n",
            "31/31 [==============================] - 0s 9ms/step - loss: 6.6064 - lr: 1.9953e-04\n",
            "Epoch 88/100\n",
            "31/31 [==============================] - 0s 9ms/step - loss: 9.7499 - lr: 2.2387e-04\n",
            "Epoch 89/100\n",
            "31/31 [==============================] - 0s 9ms/step - loss: 7.3139 - lr: 2.5119e-04\n",
            "Epoch 90/100\n",
            "31/31 [==============================] - 0s 9ms/step - loss: 7.7412 - lr: 2.8184e-04\n",
            "Epoch 91/100\n",
            "31/31 [==============================] - 0s 11ms/step - loss: 7.5391 - lr: 3.1623e-04\n",
            "Epoch 92/100\n",
            "31/31 [==============================] - 1s 13ms/step - loss: 7.9457 - lr: 3.5481e-04\n",
            "Epoch 93/100\n",
            "31/31 [==============================] - 1s 14ms/step - loss: 9.0653 - lr: 3.9811e-04\n",
            "Epoch 94/100\n",
            "31/31 [==============================] - 1s 15ms/step - loss: 8.9304 - lr: 4.4668e-04\n",
            "Epoch 95/100\n",
            "31/31 [==============================] - 0s 9ms/step - loss: 10.3293 - lr: 5.0119e-04\n",
            "Epoch 96/100\n",
            "31/31 [==============================] - 0s 9ms/step - loss: 11.6596 - lr: 5.6234e-04\n",
            "Epoch 97/100\n",
            "31/31 [==============================] - 0s 8ms/step - loss: 9.5851 - lr: 6.3096e-04\n",
            "Epoch 98/100\n",
            "31/31 [==============================] - 0s 9ms/step - loss: 10.0376 - lr: 7.0795e-04\n",
            "Epoch 99/100\n",
            "31/31 [==============================] - 0s 8ms/step - loss: 10.3819 - lr: 7.9433e-04\n",
            "Epoch 100/100\n",
            "31/31 [==============================] - 0s 10ms/step - loss: 9.2667 - lr: 8.9125e-04\n"
          ]
        }
      ],
      "source": [
        "# Set the learning rate scheduler\n",
        "lr_schedule = tf.keras.callbacks.LearningRateScheduler(\n",
        "    lambda epoch: 1e-8 * 10**(epoch / 20))\n",
        "\n",
        "# Initialize the optimizer\n",
        "optimizer = tf.keras.optimizers.SGD(momentum=0.9)\n",
        "\n",
        "# Set the training parameters\n",
        "model_tune.compile(loss=tf.keras.losses.Huber(), optimizer=optimizer)\n",
        "\n",
        "# Train the model\n",
        "history = model_tune.fit(dataset, epochs=100, callbacks=[lr_schedule])"
      ]
    },
    {
      "cell_type": "code",
      "execution_count": 10,
      "metadata": {
        "id": "AkBsrsXMzoWR",
        "colab": {
          "base_uri": "https://localhost:8080/",
          "height": 559
        },
        "outputId": "e8d338dd-807b-4148-bc22-4f419c2adbc3"
      },
      "outputs": [
        {
          "output_type": "execute_result",
          "data": {
            "text/plain": [
              "(1e-08, 0.001, 0.0, 30.0)"
            ]
          },
          "metadata": {},
          "execution_count": 10
        },
        {
          "output_type": "display_data",
          "data": {
            "text/plain": [
              "<Figure size 1000x600 with 1 Axes>"
            ],
            "image/png": "[encoded data removed]"
          },
          "metadata": {}
        }
      ],
      "source": [
        "# Define the learning rate array\n",
        "lrs = 1e-8 * (10 ** (np.arange(100) / 20))\n",
        "\n",
        "# Set the figure size\n",
        "plt.figure(figsize=(10, 6))\n",
        "\n",
        "# Set the grid\n",
        "plt.grid(True)\n",
        "\n",
        "# Plot the loss in log scale\n",
        "plt.semilogx(lrs, history.history[\"loss\"])\n",
        "\n",
        "# Increase the tickmarks size\n",
        "plt.tick_params('both', length=10, width=1, which='both')\n",
        "\n",
        "# Set the plot boundaries\n",
        "plt.axis([1e-8, 1e-3, 0, 30])"
      ]
    },
    {
      "cell_type": "markdown",
      "metadata": {
        "id": "i-lKNp4pq_w8"
      },
      "source": [
        "## Train the Model\n",
        "\n",
        "You can then proceed to train the model with your chosen learning rate.\n",
        "\n",
        "*Tip: When experimenting and you find yourself running different iterations of a model, you may want to use the [`clear_session()`](https://www.tensorflow.org/api_docs/python/tf/keras/backend/clear_session) method to declutter memory used by Keras. This is added in the first line below.*\n"
      ]
    },
    {
      "cell_type": "code",
      "execution_count": 11,
      "metadata": {
        "id": "4uh-97bpLZCA",
        "colab": {
          "base_uri": "https://localhost:8080/"
        },
        "outputId": "ac62783b-1156-4b96-8498-4102b62af427"
      },
      "outputs": [
        {
          "output_type": "stream",
          "name": "stdout",
          "text": [
            "Epoch 1/100\n",
            "31/31 [==============================] - 7s 9ms/step - loss: 20.8471 - mae: 21.3442\n",
            "Epoch 2/100\n",
            "31/31 [==============================] - 0s 9ms/step - loss: 16.9627 - mae: 17.4574\n",
            "Epoch 3/100\n",
            "31/31 [==============================] - 0s 9ms/step - loss: 14.5836 - mae: 15.0764\n",
            "Epoch 4/100\n",
            "31/31 [==============================] - 0s 10ms/step - loss: 12.7971 - mae: 13.2863\n",
            "Epoch 5/100\n",
            "31/31 [==============================] - 0s 9ms/step - loss: 11.6063 - mae: 12.0977\n",
            "Epoch 6/100\n",
            "31/31 [==============================] - 0s 9ms/step - loss: 10.4446 - mae: 10.9329\n",
            "Epoch 7/100\n",
            "31/31 [==============================] - 0s 9ms/step - loss: 9.4967 - mae: 9.9852\n",
            "Epoch 8/100\n",
            "31/31 [==============================] - 0s 9ms/step - loss: 9.1868 - mae: 9.6759\n",
            "Epoch 9/100\n",
            "31/31 [==============================] - 0s 9ms/step - loss: 8.1455 - mae: 8.6237\n",
            "Epoch 10/100\n",
            "31/31 [==============================] - 0s 9ms/step - loss: 7.6075 - mae: 8.0908\n",
            "Epoch 11/100\n",
            "31/31 [==============================] - 0s 9ms/step - loss: 7.0881 - mae: 7.5736\n",
            "Epoch 12/100\n",
            "31/31 [==============================] - 0s 9ms/step - loss: 6.9086 - mae: 7.3844\n",
            "Epoch 13/100\n",
            "31/31 [==============================] - 0s 9ms/step - loss: 6.6136 - mae: 7.0970\n",
            "Epoch 14/100\n",
            "31/31 [==============================] - 0s 9ms/step - loss: 6.6203 - mae: 7.1004\n",
            "Epoch 15/100\n",
            "31/31 [==============================] - 0s 9ms/step - loss: 6.7631 - mae: 7.2466\n",
            "Epoch 16/100\n",
            "31/31 [==============================] - 0s 8ms/step - loss: 6.7042 - mae: 7.1871\n",
            "Epoch 17/100\n",
            "31/31 [==============================] - 0s 9ms/step - loss: 6.2639 - mae: 6.7450\n",
            "Epoch 18/100\n",
            "31/31 [==============================] - 0s 9ms/step - loss: 6.0693 - mae: 6.5500\n",
            "Epoch 19/100\n",
            "31/31 [==============================] - 0s 10ms/step - loss: 6.1922 - mae: 6.6765\n",
            "Epoch 20/100\n",
            "31/31 [==============================] - 0s 9ms/step - loss: 6.0006 - mae: 6.4798\n",
            "Epoch 21/100\n",
            "31/31 [==============================] - 0s 9ms/step - loss: 5.9633 - mae: 6.4452\n",
            "Epoch 22/100\n",
            "31/31 [==============================] - 1s 13ms/step - loss: 6.0632 - mae: 6.5434\n",
            "Epoch 23/100\n",
            "31/31 [==============================] - 1s 13ms/step - loss: 5.8229 - mae: 6.3021\n",
            "Epoch 24/100\n",
            "31/31 [==============================] - 1s 13ms/step - loss: 5.8671 - mae: 6.3480\n",
            "Epoch 25/100\n",
            "31/31 [==============================] - 1s 14ms/step - loss: 5.7968 - mae: 6.2802\n",
            "Epoch 26/100\n",
            "31/31 [==============================] - 1s 12ms/step - loss: 5.6595 - mae: 6.1393\n",
            "Epoch 27/100\n",
            "31/31 [==============================] - 0s 9ms/step - loss: 5.7392 - mae: 6.2198\n",
            "Epoch 28/100\n",
            "31/31 [==============================] - 0s 9ms/step - loss: 5.7883 - mae: 6.2659\n",
            "Epoch 29/100\n",
            "31/31 [==============================] - 0s 10ms/step - loss: 5.5446 - mae: 6.0231\n",
            "Epoch 30/100\n",
            "31/31 [==============================] - 0s 9ms/step - loss: 5.5553 - mae: 6.0359\n",
            "Epoch 31/100\n",
            "31/31 [==============================] - 0s 9ms/step - loss: 5.6212 - mae: 6.1000\n",
            "Epoch 32/100\n",
            "31/31 [==============================] - 0s 9ms/step - loss: 5.4403 - mae: 5.9199\n",
            "Epoch 33/100\n",
            "31/31 [==============================] - 0s 9ms/step - loss: 5.6465 - mae: 6.1294\n",
            "Epoch 34/100\n",
            "31/31 [==============================] - 0s 10ms/step - loss: 5.4432 - mae: 5.9206\n",
            "Epoch 35/100\n",
            "31/31 [==============================] - 0s 9ms/step - loss: 5.2942 - mae: 5.7712\n",
            "Epoch 36/100\n",
            "31/31 [==============================] - 0s 9ms/step - loss: 5.3717 - mae: 5.8492\n",
            "Epoch 37/100\n",
            "31/31 [==============================] - 0s 9ms/step - loss: 5.2538 - mae: 5.7320\n",
            "Epoch 38/100\n",
            "31/31 [==============================] - 0s 9ms/step - loss: 5.2308 - mae: 5.7057\n",
            "Epoch 39/100\n",
            "31/31 [==============================] - 0s 9ms/step - loss: 5.2621 - mae: 5.7403\n",
            "Epoch 40/100\n",
            "31/31 [==============================] - 0s 9ms/step - loss: 5.2114 - mae: 5.6891\n",
            "Epoch 41/100\n",
            "31/31 [==============================] - 0s 9ms/step - loss: 5.2483 - mae: 5.7292\n",
            "Epoch 42/100\n",
            "31/31 [==============================] - 0s 9ms/step - loss: 5.1511 - mae: 5.6254\n",
            "Epoch 43/100\n",
            "31/31 [==============================] - 0s 9ms/step - loss: 5.2374 - mae: 5.7127\n",
            "Epoch 44/100\n",
            "31/31 [==============================] - 0s 9ms/step - loss: 5.0699 - mae: 5.5490\n",
            "Epoch 45/100\n",
            "31/31 [==============================] - 0s 9ms/step - loss: 5.1336 - mae: 5.6120\n",
            "Epoch 46/100\n",
            "31/31 [==============================] - 0s 10ms/step - loss: 5.0493 - mae: 5.5325\n",
            "Epoch 47/100\n",
            "31/31 [==============================] - 0s 9ms/step - loss: 4.9994 - mae: 5.4785\n",
            "Epoch 48/100\n",
            "31/31 [==============================] - 0s 9ms/step - loss: 5.0626 - mae: 5.5374\n",
            "Epoch 49/100\n",
            "31/31 [==============================] - 1s 14ms/step - loss: 5.0043 - mae: 5.4810\n",
            "Epoch 50/100\n",
            "31/31 [==============================] - 1s 13ms/step - loss: 5.0825 - mae: 5.5592\n",
            "Epoch 51/100\n",
            "31/31 [==============================] - 1s 13ms/step - loss: 4.9590 - mae: 5.4391\n",
            "Epoch 52/100\n",
            "31/31 [==============================] - 1s 13ms/step - loss: 4.9978 - mae: 5.4725\n",
            "Epoch 53/100\n",
            "31/31 [==============================] - 1s 11ms/step - loss: 4.9747 - mae: 5.4532\n",
            "Epoch 54/100\n",
            "31/31 [==============================] - 0s 9ms/step - loss: 4.9429 - mae: 5.4223\n",
            "Epoch 55/100\n",
            "31/31 [==============================] - 0s 9ms/step - loss: 5.0449 - mae: 5.5184\n",
            "Epoch 56/100\n",
            "31/31 [==============================] - 0s 9ms/step - loss: 5.1690 - mae: 5.6467\n",
            "Epoch 57/100\n",
            "31/31 [==============================] - 0s 9ms/step - loss: 4.9833 - mae: 5.4611\n",
            "Epoch 58/100\n",
            "31/31 [==============================] - 0s 9ms/step - loss: 4.9589 - mae: 5.4413\n",
            "Epoch 59/100\n",
            "31/31 [==============================] - 0s 8ms/step - loss: 4.9302 - mae: 5.4102\n",
            "Epoch 60/100\n",
            "31/31 [==============================] - 0s 9ms/step - loss: 4.9461 - mae: 5.4188\n",
            "Epoch 61/100\n",
            "31/31 [==============================] - 0s 9ms/step - loss: 4.8946 - mae: 5.3749\n",
            "Epoch 62/100\n",
            "31/31 [==============================] - 0s 10ms/step - loss: 4.8643 - mae: 5.3421\n",
            "Epoch 63/100\n",
            "31/31 [==============================] - 0s 9ms/step - loss: 4.8361 - mae: 5.3127\n",
            "Epoch 64/100\n",
            "31/31 [==============================] - 0s 9ms/step - loss: 4.8357 - mae: 5.3100\n",
            "Epoch 65/100\n",
            "31/31 [==============================] - 0s 9ms/step - loss: 4.8645 - mae: 5.3436\n",
            "Epoch 66/100\n",
            "31/31 [==============================] - 0s 9ms/step - loss: 4.8030 - mae: 5.2792\n",
            "Epoch 67/100\n",
            "31/31 [==============================] - 0s 9ms/step - loss: 4.7605 - mae: 5.2337\n",
            "Epoch 68/100\n",
            "31/31 [==============================] - 0s 9ms/step - loss: 4.8338 - mae: 5.3095\n",
            "Epoch 69/100\n",
            "31/31 [==============================] - 0s 9ms/step - loss: 4.8547 - mae: 5.3333\n",
            "Epoch 70/100\n",
            "31/31 [==============================] - 0s 9ms/step - loss: 4.7884 - mae: 5.2626\n",
            "Epoch 71/100\n",
            "31/31 [==============================] - 0s 9ms/step - loss: 4.8325 - mae: 5.3068\n",
            "Epoch 72/100\n",
            "31/31 [==============================] - 1s 18ms/step - loss: 4.8176 - mae: 5.2971\n",
            "Epoch 73/100\n",
            "31/31 [==============================] - 0s 9ms/step - loss: 4.7782 - mae: 5.2525\n",
            "Epoch 74/100\n",
            "31/31 [==============================] - 1s 23ms/step - loss: 4.7627 - mae: 5.2412\n",
            "Epoch 75/100\n",
            "31/31 [==============================] - 1s 13ms/step - loss: 4.7549 - mae: 5.2325\n",
            "Epoch 76/100\n",
            "31/31 [==============================] - 1s 13ms/step - loss: 4.7684 - mae: 5.2458\n",
            "Epoch 77/100\n",
            "31/31 [==============================] - 1s 14ms/step - loss: 4.7351 - mae: 5.2129\n",
            "Epoch 78/100\n",
            "31/31 [==============================] - 1s 13ms/step - loss: 4.7232 - mae: 5.1983\n",
            "Epoch 79/100\n",
            "31/31 [==============================] - 0s 8ms/step - loss: 4.7086 - mae: 5.1847\n",
            "Epoch 80/100\n",
            "31/31 [==============================] - 0s 9ms/step - loss: 4.6979 - mae: 5.1743\n",
            "Epoch 81/100\n",
            "31/31 [==============================] - 0s 10ms/step - loss: 4.6966 - mae: 5.1698\n",
            "Epoch 82/100\n",
            "31/31 [==============================] - 0s 9ms/step - loss: 4.6952 - mae: 5.1727\n",
            "Epoch 83/100\n",
            "31/31 [==============================] - 0s 8ms/step - loss: 4.7156 - mae: 5.1895\n",
            "Epoch 84/100\n",
            "31/31 [==============================] - 0s 9ms/step - loss: 4.7091 - mae: 5.1854\n",
            "Epoch 85/100\n",
            "31/31 [==============================] - 0s 10ms/step - loss: 4.7096 - mae: 5.1860\n",
            "Epoch 86/100\n",
            "31/31 [==============================] - 0s 9ms/step - loss: 4.6723 - mae: 5.1471\n",
            "Epoch 87/100\n",
            "31/31 [==============================] - 0s 9ms/step - loss: 4.7317 - mae: 5.2070\n",
            "Epoch 88/100\n",
            "31/31 [==============================] - 0s 9ms/step - loss: 4.7020 - mae: 5.1786\n",
            "Epoch 89/100\n",
            "31/31 [==============================] - 0s 9ms/step - loss: 4.7220 - mae: 5.1998\n",
            "Epoch 90/100\n",
            "31/31 [==============================] - 0s 9ms/step - loss: 4.7093 - mae: 5.1802\n",
            "Epoch 91/100\n",
            "31/31 [==============================] - 0s 9ms/step - loss: 4.6866 - mae: 5.1634\n",
            "Epoch 92/100\n",
            "31/31 [==============================] - 1s 19ms/step - loss: 4.7085 - mae: 5.1833\n",
            "Epoch 93/100\n",
            "31/31 [==============================] - 0s 9ms/step - loss: 4.6761 - mae: 5.1553\n",
            "Epoch 94/100\n",
            "31/31 [==============================] - 0s 9ms/step - loss: 4.7060 - mae: 5.1801\n",
            "Epoch 95/100\n",
            "31/31 [==============================] - 0s 9ms/step - loss: 4.7040 - mae: 5.1763\n",
            "Epoch 96/100\n",
            "31/31 [==============================] - 0s 9ms/step - loss: 4.7120 - mae: 5.1883\n",
            "Epoch 97/100\n",
            "31/31 [==============================] - 0s 8ms/step - loss: 4.6462 - mae: 5.1206\n",
            "Epoch 98/100\n",
            "31/31 [==============================] - 0s 9ms/step - loss: 4.6781 - mae: 5.1576\n",
            "Epoch 99/100\n",
            "31/31 [==============================] - 0s 9ms/step - loss: 4.6595 - mae: 5.1364\n",
            "Epoch 100/100\n",
            "31/31 [==============================] - 0s 9ms/step - loss: 4.6155 - mae: 5.0897\n"
          ]
        }
      ],
      "source": [
        "# Reset states generated by Keras\n",
        "tf.keras.backend.clear_session()\n",
        "\n",
        "# Build the model\n",
        "model = tf.keras.models.Sequential([\n",
        "  tf.keras.layers.Lambda(lambda x: tf.expand_dims(x, axis=-1),\n",
        "                      input_shape=[None]),\n",
        "   tf.keras.layers.Bidirectional(tf.keras.layers.LSTM(32, return_sequences=True)),\n",
        "  tf.keras.layers.Bidirectional(tf.keras.layers.LSTM(32)),\n",
        "  tf.keras.layers.Dense(1),\n",
        "  tf.keras.layers.Lambda(lambda x: x * 100.0)\n",
        "])\n",
        "\n",
        "# Set the learning rate\n",
        "learning_rate = 1e-6\n",
        "\n",
        "# Set the optimizer\n",
        "optimizer = tf.keras.optimizers.SGD(learning_rate=learning_rate, momentum=0.9)\n",
        "\n",
        "# Set the training parameters\n",
        "model.compile(loss=tf.keras.losses.Huber(),\n",
        "              optimizer=optimizer,\n",
        "              metrics=[\"mae\"])\n",
        "\n",
        "# Train the model\n",
        "history = model.fit(dataset,epochs=100)"
      ]
    },
    {
      "cell_type": "markdown",
      "metadata": {
        "id": "RjP4kbGiI7cw"
      },
      "source": [
        "## Model Prediction\n",
        "\n",
        "You will then generate batches of windows to generate predictions that align with the validation set."
      ]
    },
    {
      "cell_type": "code",
      "execution_count": 12,
      "metadata": {
        "id": "QO8cfKwKBBG6"
      },
      "outputs": [],
      "source": [
        "def model_forecast(model, series, window_size, batch_size):\n",
        "    \"\"\"Uses an input model to generate predictions on data windows\n",
        "\n",
        "    Args:\n",
        "      model (TF Keras Model) - model that accepts data windows\n",
        "      series (array of float) - contains the values of the time series\n",
        "      window_size (int) - the number of time steps to include in the window\n",
        "      batch_size (int) - the batch size\n",
        "\n",
        "    Returns:\n",
        "      forecast (numpy array) - array containing predictions\n",
        "    \"\"\"\n",
        "\n",
        "    # Generate a TF Dataset from the series values\n",
        "    dataset = tf.data.Dataset.from_tensor_slices(series)\n",
        "\n",
        "    # Window the data but only take those with the specified size\n",
        "    dataset = dataset.window(window_size, shift=1, drop_remainder=True)\n",
        "\n",
        "    # Flatten the windows by putting its elements in a single batch\n",
        "    dataset = dataset.flat_map(lambda w: w.batch(window_size))\n",
        "\n",
        "    # Create batches of windows\n",
        "    dataset = dataset.batch(batch_size).prefetch(1)\n",
        "\n",
        "    # Get predictions on the entire dataset\n",
        "    forecast = model.predict(dataset)\n",
        "\n",
        "    return forecast"
      ]
    },
    {
      "cell_type": "code",
      "execution_count": 13,
      "metadata": {
        "id": "_plB3UseBD8o",
        "colab": {
          "base_uri": "https://localhost:8080/",
          "height": 560
        },
        "outputId": "5aad472e-1ae4-4a2a-cdc7-e1e00f373f97"
      },
      "outputs": [
        {
          "output_type": "stream",
          "name": "stdout",
          "text": [
            "15/15 [==============================] - 1s 8ms/step\n"
          ]
        },
        {
          "output_type": "display_data",
          "data": {
            "text/plain": [
              "<Figure size 1000x600 with 1 Axes>"
            ],
            "image/png": "[encoded data removed]"
          },
          "metadata": {}
        }
      ],
      "source": [
        "# Reduce the original series\n",
        "forecast_series = series[split_time-window_size:-1]\n",
        "\n",
        "# Use helper function to generate predictions\n",
        "forecast = model_forecast(model, forecast_series, window_size, batch_size)\n",
        "\n",
        "# Drop single dimensional axis\n",
        "results = forecast.squeeze()\n",
        "\n",
        "# Plot the results\n",
        "plot_series(time_valid, (x_valid, results))"
      ]
    },
    {
      "cell_type": "markdown",
      "metadata": {
        "id": "Nn8iSQkZtaRC"
      },
      "source": [
        "You can then generate the metrics to evaluate the model's performance."
      ]
    },
    {
      "cell_type": "code",
      "execution_count": 14,
      "metadata": {
        "id": "-IKhueZaBGID",
        "colab": {
          "base_uri": "https://localhost:8080/"
        },
        "outputId": "d7a8cfbd-0a00-479c-8103-77735abd2875"
      },
      "outputs": [
        {
          "output_type": "stream",
          "name": "stdout",
          "text": [
            "76.96497\n",
            "6.291902\n"
          ]
        }
      ],
      "source": [
        "# Compute the MSE and MAE\n",
        "print(tf.keras.metrics.mean_squared_error(x_valid, results).numpy())\n",
        "print(tf.keras.metrics.mean_absolute_error(x_valid, results).numpy())"
      ]
    },
    {
      "cell_type": "markdown",
      "metadata": {
        "id": "bzPIqeMWvbPy"
      },
      "source": [
        "## Wrap Up\n",
        "\n",
        "This concludes this short exercise on using LSTMs for time series forecasting. Next week, you will build upon this and add convolutions. Then, you will start to move away from synthetic data and use real-world datasets. See you there!"
      ]
    },
    {
      "cell_type": "markdown",
      "metadata": {
        "id": "U5PqTePGHeMH"
      },
      "source": [
        "## Optional: Including a Validation Set while Training\n",
        "\n",
        "Back in the first course of this specialization, you saw how you can also monitor the performance of your model against a validation set while training. You can also do that for this lab.\n",
        "\n",
        "First, you need to generate a `val_set` which are data windows and labels that your model can accept. You can simply reuse the `windowed_dataset` function for that and you can pass in the `x_valid` points to generate the windows."
      ]
    },
    {
      "cell_type": "code",
      "execution_count": 15,
      "metadata": {
        "id": "kvFVwL3PC4iX"
      },
      "outputs": [],
      "source": [
        "# Generate data windows of the validation set\n",
        "val_set = windowed_dataset(x_valid, window_size, batch_size, shuffle_buffer_size)"
      ]
    },
    {
      "cell_type": "markdown",
      "metadata": {
        "id": "p68j6XxEvP9K"
      },
      "source": [
        "You can then do the same training as before but pass in the `val_set` to the `validation_data` parameter of the `fit()` method."
      ]
    },
    {
      "cell_type": "code",
      "execution_count": 16,
      "metadata": {
        "id": "wujKz6tXDSn0",
        "colab": {
          "base_uri": "https://localhost:8080/"
        },
        "outputId": "91f12b86-f3bd-4cf0-a5b4-18442cec858a"
      },
      "outputs": [
        {
          "output_type": "stream",
          "name": "stdout",
          "text": [
            "Epoch 1/100\n",
            "31/31 [==============================] - 8s 55ms/step - loss: 16.7102 - mae: 17.2012 - val_loss: 26.0803 - val_mae: 26.5803\n",
            "Epoch 2/100\n",
            "31/31 [==============================] - 1s 13ms/step - loss: 7.9468 - mae: 8.4275 - val_loss: 17.0559 - val_mae: 17.5521\n",
            "Epoch 3/100\n",
            "31/31 [==============================] - 0s 12ms/step - loss: 6.2179 - mae: 6.6960 - val_loss: 13.8602 - val_mae: 14.3549\n",
            "Epoch 4/100\n",
            "31/31 [==============================] - 0s 12ms/step - loss: 5.8710 - mae: 6.3515 - val_loss: 11.0876 - val_mae: 11.5781\n",
            "Epoch 5/100\n",
            "31/31 [==============================] - 0s 12ms/step - loss: 5.6770 - mae: 6.1573 - val_loss: 11.2499 - val_mae: 11.7401\n",
            "Epoch 6/100\n",
            "31/31 [==============================] - 0s 14ms/step - loss: 5.4567 - mae: 5.9364 - val_loss: 10.5262 - val_mae: 11.0151\n",
            "Epoch 7/100\n",
            "31/31 [==============================] - 0s 12ms/step - loss: 5.3227 - mae: 5.8010 - val_loss: 9.3015 - val_mae: 9.7940\n",
            "Epoch 8/100\n",
            "31/31 [==============================] - 0s 13ms/step - loss: 5.2671 - mae: 5.7464 - val_loss: 9.3854 - val_mae: 9.8744\n",
            "Epoch 9/100\n",
            "31/31 [==============================] - 0s 12ms/step - loss: 5.1638 - mae: 5.6400 - val_loss: 9.0221 - val_mae: 9.5106\n",
            "Epoch 10/100\n",
            "31/31 [==============================] - 0s 12ms/step - loss: 5.2061 - mae: 5.6818 - val_loss: 10.6096 - val_mae: 11.1013\n",
            "Epoch 11/100\n",
            "31/31 [==============================] - 0s 13ms/step - loss: 5.1905 - mae: 5.6655 - val_loss: 8.6848 - val_mae: 9.1718\n",
            "Epoch 12/100\n",
            "31/31 [==============================] - 0s 13ms/step - loss: 4.9895 - mae: 5.4663 - val_loss: 10.5427 - val_mae: 11.0363\n",
            "Epoch 13/100\n",
            "31/31 [==============================] - 0s 13ms/step - loss: 5.1239 - mae: 5.6026 - val_loss: 9.4182 - val_mae: 9.9072\n",
            "Epoch 14/100\n",
            "31/31 [==============================] - 1s 17ms/step - loss: 5.0707 - mae: 5.5481 - val_loss: 7.5959 - val_mae: 8.0827\n",
            "Epoch 15/100\n",
            "31/31 [==============================] - 1s 19ms/step - loss: 4.9729 - mae: 5.4544 - val_loss: 8.0653 - val_mae: 8.5573\n",
            "Epoch 16/100\n",
            "31/31 [==============================] - 0s 13ms/step - loss: 4.9008 - mae: 5.3816 - val_loss: 7.6151 - val_mae: 8.1020\n",
            "Epoch 17/100\n",
            "31/31 [==============================] - 0s 13ms/step - loss: 5.0165 - mae: 5.4972 - val_loss: 7.7564 - val_mae: 8.2460\n",
            "Epoch 18/100\n",
            "31/31 [==============================] - 0s 12ms/step - loss: 4.8517 - mae: 5.3276 - val_loss: 7.5530 - val_mae: 8.0420\n",
            "Epoch 19/100\n",
            "31/31 [==============================] - 0s 13ms/step - loss: 4.8296 - mae: 5.3078 - val_loss: 8.3705 - val_mae: 8.8524\n",
            "Epoch 20/100\n",
            "31/31 [==============================] - 1s 12ms/step - loss: 4.8548 - mae: 5.3321 - val_loss: 7.8785 - val_mae: 8.3663\n",
            "Epoch 21/100\n",
            "31/31 [==============================] - 0s 13ms/step - loss: 4.7736 - mae: 5.2501 - val_loss: 7.3589 - val_mae: 7.8464\n",
            "Epoch 22/100\n",
            "31/31 [==============================] - 1s 14ms/step - loss: 4.7793 - mae: 5.2546 - val_loss: 6.7651 - val_mae: 7.2531\n",
            "Epoch 23/100\n",
            "31/31 [==============================] - 1s 14ms/step - loss: 4.8035 - mae: 5.2747 - val_loss: 6.6457 - val_mae: 7.1331\n",
            "Epoch 24/100\n",
            "31/31 [==============================] - 0s 12ms/step - loss: 4.8478 - mae: 5.3264 - val_loss: 6.7841 - val_mae: 7.2703\n",
            "Epoch 25/100\n",
            "31/31 [==============================] - 0s 12ms/step - loss: 4.8035 - mae: 5.2770 - val_loss: 6.9089 - val_mae: 7.3898\n",
            "Epoch 26/100\n",
            "31/31 [==============================] - 0s 12ms/step - loss: 4.7417 - mae: 5.2209 - val_loss: 7.5635 - val_mae: 8.0499\n",
            "Epoch 27/100\n",
            "31/31 [==============================] - 0s 13ms/step - loss: 4.7710 - mae: 5.2485 - val_loss: 7.5611 - val_mae: 8.0470\n",
            "Epoch 28/100\n",
            "31/31 [==============================] - 0s 12ms/step - loss: 4.6953 - mae: 5.1699 - val_loss: 7.2276 - val_mae: 7.7101\n",
            "Epoch 29/100\n",
            "31/31 [==============================] - 0s 13ms/step - loss: 4.7190 - mae: 5.1977 - val_loss: 6.3888 - val_mae: 6.8751\n",
            "Epoch 30/100\n",
            "31/31 [==============================] - 0s 12ms/step - loss: 4.6843 - mae: 5.1662 - val_loss: 6.4811 - val_mae: 6.9631\n",
            "Epoch 31/100\n",
            "31/31 [==============================] - 0s 12ms/step - loss: 4.7181 - mae: 5.1976 - val_loss: 6.7340 - val_mae: 7.2172\n",
            "Epoch 32/100\n",
            "31/31 [==============================] - 0s 12ms/step - loss: 4.6645 - mae: 5.1434 - val_loss: 6.5549 - val_mae: 7.0373\n",
            "Epoch 33/100\n",
            "31/31 [==============================] - 0s 12ms/step - loss: 4.6775 - mae: 5.1550 - val_loss: 6.6678 - val_mae: 7.1515\n",
            "Epoch 34/100\n",
            "31/31 [==============================] - 0s 12ms/step - loss: 4.7472 - mae: 5.2246 - val_loss: 6.3403 - val_mae: 6.8253\n",
            "Epoch 35/100\n",
            "31/31 [==============================] - 1s 24ms/step - loss: 4.6350 - mae: 5.1127 - val_loss: 6.6079 - val_mae: 7.0888\n",
            "Epoch 36/100\n",
            "31/31 [==============================] - 1s 23ms/step - loss: 4.7586 - mae: 5.2348 - val_loss: 7.4221 - val_mae: 7.9111\n",
            "Epoch 37/100\n",
            "31/31 [==============================] - 0s 12ms/step - loss: 4.6791 - mae: 5.1543 - val_loss: 6.8339 - val_mae: 7.3130\n",
            "Epoch 38/100\n",
            "31/31 [==============================] - 0s 12ms/step - loss: 4.7173 - mae: 5.1912 - val_loss: 6.1577 - val_mae: 6.6392\n",
            "Epoch 39/100\n",
            "31/31 [==============================] - 0s 12ms/step - loss: 4.6347 - mae: 5.1147 - val_loss: 6.5336 - val_mae: 7.0108\n",
            "Epoch 40/100\n",
            "31/31 [==============================] - 0s 13ms/step - loss: 4.6221 - mae: 5.0985 - val_loss: 6.9014 - val_mae: 7.3805\n",
            "Epoch 41/100\n",
            "31/31 [==============================] - 0s 12ms/step - loss: 4.5815 - mae: 5.0585 - val_loss: 5.8822 - val_mae: 6.3635\n",
            "Epoch 42/100\n",
            "31/31 [==============================] - 1s 15ms/step - loss: 4.6079 - mae: 5.0856 - val_loss: 6.4154 - val_mae: 6.8935\n",
            "Epoch 43/100\n",
            "31/31 [==============================] - 0s 13ms/step - loss: 4.6760 - mae: 5.1516 - val_loss: 6.3473 - val_mae: 6.8256\n",
            "Epoch 44/100\n",
            "31/31 [==============================] - 0s 12ms/step - loss: 4.5969 - mae: 5.0711 - val_loss: 6.2587 - val_mae: 6.7382\n",
            "Epoch 45/100\n",
            "31/31 [==============================] - 0s 13ms/step - loss: 4.6335 - mae: 5.1111 - val_loss: 6.6003 - val_mae: 7.0794\n",
            "Epoch 46/100\n",
            "31/31 [==============================] - 0s 12ms/step - loss: 4.6741 - mae: 5.1517 - val_loss: 6.1698 - val_mae: 6.6513\n",
            "Epoch 47/100\n",
            "31/31 [==============================] - 1s 14ms/step - loss: 4.6650 - mae: 5.1409 - val_loss: 6.2358 - val_mae: 6.7149\n",
            "Epoch 48/100\n",
            "31/31 [==============================] - 0s 13ms/step - loss: 4.6711 - mae: 5.1482 - val_loss: 6.4392 - val_mae: 6.9188\n",
            "Epoch 49/100\n",
            "31/31 [==============================] - 0s 13ms/step - loss: 4.5784 - mae: 5.0533 - val_loss: 6.3514 - val_mae: 6.8300\n",
            "Epoch 50/100\n",
            "31/31 [==============================] - 0s 12ms/step - loss: 4.5537 - mae: 5.0262 - val_loss: 6.2560 - val_mae: 6.7343\n",
            "Epoch 51/100\n",
            "31/31 [==============================] - 0s 13ms/step - loss: 4.5604 - mae: 5.0320 - val_loss: 6.1144 - val_mae: 6.5937\n",
            "Epoch 52/100\n",
            "31/31 [==============================] - 0s 12ms/step - loss: 4.6299 - mae: 5.1035 - val_loss: 5.6616 - val_mae: 6.1432\n",
            "Epoch 53/100\n",
            "31/31 [==============================] - 0s 13ms/step - loss: 4.7056 - mae: 5.1833 - val_loss: 6.1233 - val_mae: 6.6024\n",
            "Epoch 54/100\n",
            "31/31 [==============================] - 0s 12ms/step - loss: 4.5555 - mae: 5.0297 - val_loss: 6.0072 - val_mae: 6.4860\n",
            "Epoch 55/100\n",
            "31/31 [==============================] - 0s 13ms/step - loss: 4.5401 - mae: 5.0152 - val_loss: 6.3705 - val_mae: 6.8490\n",
            "Epoch 56/100\n",
            "31/31 [==============================] - 1s 17ms/step - loss: 4.5509 - mae: 5.0285 - val_loss: 5.7593 - val_mae: 6.2437\n",
            "Epoch 57/100\n",
            "31/31 [==============================] - 1s 23ms/step - loss: 4.5253 - mae: 5.0008 - val_loss: 5.5419 - val_mae: 6.0212\n",
            "Epoch 58/100\n",
            "31/31 [==============================] - 1s 12ms/step - loss: 4.7032 - mae: 5.1780 - val_loss: 6.3146 - val_mae: 6.7932\n",
            "Epoch 59/100\n",
            "31/31 [==============================] - 0s 13ms/step - loss: 4.5197 - mae: 4.9984 - val_loss: 6.3692 - val_mae: 6.8480\n",
            "Epoch 60/100\n",
            "31/31 [==============================] - 1s 14ms/step - loss: 4.5973 - mae: 5.0705 - val_loss: 5.6851 - val_mae: 6.1714\n",
            "Epoch 61/100\n",
            "31/31 [==============================] - 0s 12ms/step - loss: 4.5641 - mae: 5.0406 - val_loss: 6.2865 - val_mae: 6.7662\n",
            "Epoch 62/100\n",
            "31/31 [==============================] - 0s 13ms/step - loss: 4.5911 - mae: 5.0694 - val_loss: 6.9328 - val_mae: 7.4166\n",
            "Epoch 63/100\n",
            "31/31 [==============================] - 0s 12ms/step - loss: 4.5861 - mae: 5.0637 - val_loss: 5.8655 - val_mae: 6.3412\n",
            "Epoch 64/100\n",
            "31/31 [==============================] - 0s 13ms/step - loss: 4.5406 - mae: 5.0152 - val_loss: 6.5632 - val_mae: 7.0458\n",
            "Epoch 65/100\n",
            "31/31 [==============================] - 0s 12ms/step - loss: 4.5712 - mae: 5.0461 - val_loss: 6.1648 - val_mae: 6.6442\n",
            "Epoch 66/100\n",
            "31/31 [==============================] - 0s 13ms/step - loss: 4.5563 - mae: 5.0355 - val_loss: 5.4262 - val_mae: 5.9050\n",
            "Epoch 67/100\n",
            "31/31 [==============================] - 0s 12ms/step - loss: 4.5874 - mae: 5.0649 - val_loss: 6.3313 - val_mae: 6.8131\n",
            "Epoch 68/100\n",
            "31/31 [==============================] - 0s 13ms/step - loss: 4.6154 - mae: 5.0960 - val_loss: 5.8891 - val_mae: 6.3638\n",
            "Epoch 69/100\n",
            "31/31 [==============================] - 0s 13ms/step - loss: 4.5586 - mae: 5.0363 - val_loss: 5.6515 - val_mae: 6.1386\n",
            "Epoch 70/100\n",
            "31/31 [==============================] - 0s 12ms/step - loss: 4.5021 - mae: 4.9779 - val_loss: 5.3834 - val_mae: 5.8648\n",
            "Epoch 71/100\n",
            "31/31 [==============================] - 0s 12ms/step - loss: 4.5916 - mae: 5.0694 - val_loss: 5.4859 - val_mae: 5.9663\n",
            "Epoch 72/100\n",
            "31/31 [==============================] - 1s 13ms/step - loss: 4.6178 - mae: 5.0945 - val_loss: 5.5231 - val_mae: 6.0081\n",
            "Epoch 73/100\n",
            "31/31 [==============================] - 0s 12ms/step - loss: 4.5155 - mae: 4.9933 - val_loss: 5.6425 - val_mae: 6.1275\n",
            "Epoch 74/100\n",
            "31/31 [==============================] - 0s 13ms/step - loss: 4.4941 - mae: 4.9695 - val_loss: 5.7834 - val_mae: 6.2603\n",
            "Epoch 75/100\n",
            "31/31 [==============================] - 0s 13ms/step - loss: 4.5019 - mae: 4.9818 - val_loss: 5.7055 - val_mae: 6.1848\n",
            "Epoch 76/100\n",
            "31/31 [==============================] - 1s 21ms/step - loss: 4.4787 - mae: 4.9546 - val_loss: 5.6708 - val_mae: 6.1523\n",
            "Epoch 77/100\n",
            "31/31 [==============================] - 1s 23ms/step - loss: 4.4986 - mae: 4.9784 - val_loss: 5.7346 - val_mae: 6.2120\n",
            "Epoch 78/100\n",
            "31/31 [==============================] - 1s 24ms/step - loss: 4.5190 - mae: 4.9952 - val_loss: 5.8094 - val_mae: 6.2851\n",
            "Epoch 79/100\n",
            "31/31 [==============================] - 0s 13ms/step - loss: 4.5482 - mae: 5.0254 - val_loss: 5.2847 - val_mae: 5.7643\n",
            "Epoch 80/100\n",
            "31/31 [==============================] - 0s 13ms/step - loss: 4.5795 - mae: 5.0528 - val_loss: 5.3214 - val_mae: 5.8018\n",
            "Epoch 81/100\n",
            "31/31 [==============================] - 0s 13ms/step - loss: 4.5092 - mae: 4.9835 - val_loss: 5.6294 - val_mae: 6.1119\n",
            "Epoch 82/100\n",
            "31/31 [==============================] - 0s 13ms/step - loss: 4.5009 - mae: 4.9764 - val_loss: 5.2825 - val_mae: 5.7598\n",
            "Epoch 83/100\n",
            "31/31 [==============================] - 0s 12ms/step - loss: 4.5176 - mae: 4.9993 - val_loss: 5.5076 - val_mae: 5.9933\n",
            "Epoch 84/100\n",
            "31/31 [==============================] - 0s 13ms/step - loss: 4.5648 - mae: 5.0395 - val_loss: 5.2353 - val_mae: 5.7129\n",
            "Epoch 85/100\n",
            "31/31 [==============================] - 0s 12ms/step - loss: 4.6410 - mae: 5.1194 - val_loss: 5.3450 - val_mae: 5.8259\n",
            "Epoch 86/100\n",
            "31/31 [==============================] - 0s 14ms/step - loss: 4.7284 - mae: 5.2072 - val_loss: 5.3507 - val_mae: 5.8290\n",
            "Epoch 87/100\n",
            "31/31 [==============================] - 0s 13ms/step - loss: 4.4939 - mae: 4.9763 - val_loss: 5.2530 - val_mae: 5.7300\n",
            "Epoch 88/100\n",
            "31/31 [==============================] - 0s 13ms/step - loss: 4.5317 - mae: 5.0058 - val_loss: 6.0674 - val_mae: 6.5447\n",
            "Epoch 89/100\n",
            "31/31 [==============================] - 0s 12ms/step - loss: 4.4780 - mae: 4.9537 - val_loss: 5.3253 - val_mae: 5.8046\n",
            "Epoch 90/100\n",
            "31/31 [==============================] - 0s 13ms/step - loss: 4.5173 - mae: 4.9922 - val_loss: 6.9782 - val_mae: 7.4590\n",
            "Epoch 91/100\n",
            "31/31 [==============================] - 0s 13ms/step - loss: 4.5733 - mae: 5.0467 - val_loss: 5.8473 - val_mae: 6.3228\n",
            "Epoch 92/100\n",
            "31/31 [==============================] - 0s 13ms/step - loss: 4.5529 - mae: 5.0311 - val_loss: 5.9113 - val_mae: 6.3874\n",
            "Epoch 93/100\n",
            "31/31 [==============================] - 0s 13ms/step - loss: 4.5346 - mae: 5.0123 - val_loss: 5.4029 - val_mae: 5.8866\n",
            "Epoch 94/100\n",
            "31/31 [==============================] - 0s 13ms/step - loss: 4.4682 - mae: 4.9485 - val_loss: 5.3705 - val_mae: 5.8543\n",
            "Epoch 95/100\n",
            "31/31 [==============================] - 0s 13ms/step - loss: 4.5198 - mae: 4.9949 - val_loss: 5.5321 - val_mae: 6.0160\n",
            "Epoch 96/100\n",
            "31/31 [==============================] - 0s 12ms/step - loss: 4.4468 - mae: 4.9232 - val_loss: 5.6527 - val_mae: 6.1319\n",
            "Epoch 97/100\n",
            "31/31 [==============================] - 1s 18ms/step - loss: 4.5023 - mae: 4.9790 - val_loss: 5.5365 - val_mae: 6.0207\n",
            "Epoch 98/100\n",
            "31/31 [==============================] - 1s 23ms/step - loss: 4.4765 - mae: 4.9565 - val_loss: 5.4413 - val_mae: 5.9262\n",
            "Epoch 99/100\n",
            "31/31 [==============================] - 1s 19ms/step - loss: 4.4876 - mae: 4.9621 - val_loss: 5.6233 - val_mae: 6.1039\n",
            "Epoch 100/100\n",
            "31/31 [==============================] - 0s 13ms/step - loss: 4.4716 - mae: 4.9485 - val_loss: 6.1411 - val_mae: 6.6205\n"
          ]
        }
      ],
      "source": [
        "# Reset states generated by Keras\n",
        "tf.keras.backend.clear_session()\n",
        "\n",
        "# Build the model\n",
        "model = tf.keras.models.Sequential([\n",
        "  tf.keras.layers.Lambda(lambda x: tf.expand_dims(x, axis=-1),\n",
        "                      input_shape=[None]),\n",
        "   tf.keras.layers.Bidirectional(tf.keras.layers.LSTM(32, return_sequences=True)),\n",
        "  tf.keras.layers.Bidirectional(tf.keras.layers.LSTM(32)),\n",
        "  tf.keras.layers.Dense(1),\n",
        "  tf.keras.layers.Lambda(lambda x: x * 100.0)\n",
        "])\n",
        "\n",
        "# Set the learning rate\n",
        "learning_rate = 2e-6\n",
        "\n",
        "# Set the optimizer\n",
        "optimizer = tf.keras.optimizers.SGD(learning_rate=learning_rate, momentum=0.9)\n",
        "\n",
        "# Set the training parameters\n",
        "model.compile(loss=tf.keras.losses.Huber(),\n",
        "              optimizer=optimizer,\n",
        "              metrics=[\"mae\"])\n",
        "\n",
        "# Train the model\n",
        "history = model.fit(dataset,epochs=100, validation_data=val_set)"
      ]
    }
  ],
  "metadata": {
    "accelerator": "GPU",
    "colab": {
      "provenance": [],
      "gpuType": "T4"
    },
    "kernelspec": {
      "display_name": "Python 3",
      "name": "python3"
    },
    "language_info": {
      "codemirror_mode": {
        "name": "ipython",
        "version": 3
      },
      "file_extension": ".py",
      "mimetype": "text/x-python",
      "name": "python",
      "nbconvert_exporter": "python",
      "pygments_lexer": "ipython3",
      "version": "3.9.13"
    }
  },
  "nbformat": 4,
  "nbformat_minor": 0
}